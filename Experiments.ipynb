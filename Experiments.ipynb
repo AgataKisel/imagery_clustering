{
 "cells": [
  {
   "cell_type": "code",
   "execution_count": 1,
   "id": "d3035752-c896-4511-a759-8d28b4db67bd",
   "metadata": {},
   "outputs": [],
   "source": [
    "import numpy as np\n",
    "from sklearn import cluster\n",
    "from osgeo import gdal, gdal_array \n",
    "import os"
   ]
  },
  {
   "cell_type": "code",
   "execution_count": 3,
   "id": "d9c5a386-233b-4ecf-a083-536d7025edc8",
   "metadata": {},
   "outputs": [],
   "source": [
    "img_ds = gdal.Open('D:/work/kmeans/images/2024_01_30_cutted.tif')"
   ]
  },
  {
   "cell_type": "code",
   "execution_count": 4,
   "id": "d1445b5d-c072-4b78-8582-dd4bd5edb564",
   "metadata": {},
   "outputs": [],
   "source": [
    "num_rasters = img_ds.RasterCount\n",
    "    \n",
    "img = np.zeros((img_ds.RasterYSize, img_ds.RasterXSize, num_rasters),\n",
    "                   gdal_array.GDALTypeCodeToNumericTypeCode(img_ds.GetRasterBand(1).DataType))\n",
    "\n",
    "for b in range(num_rasters):\n",
    "    img[:, :, b] = img_ds.GetRasterBand(b + 1).ReadAsArray()\n",
    "    "
   ]
  },
  {
   "cell_type": "code",
   "execution_count": 5,
   "id": "01664f04-fe33-415e-be47-1ca1e8db6fae",
   "metadata": {},
   "outputs": [
    {
     "data": {
      "text/plain": [
       "array([[[2185., 2432., 3275.],\n",
       "        [2390., 2587., 3365.],\n",
       "        [2301., 2431., 3204.],\n",
       "        ...,\n",
       "        [   0.,    0.,    0.],\n",
       "        [   0.,    0.,    0.],\n",
       "        [   0.,    0.,    0.]],\n",
       "\n",
       "       [[2223., 2486., 3260.],\n",
       "        [2323., 2512., 3253.],\n",
       "        [2271., 2403., 3214.],\n",
       "        ...,\n",
       "        [   0.,    0.,    0.],\n",
       "        [   0.,    0.,    0.],\n",
       "        [   0.,    0.,    0.]],\n",
       "\n",
       "       [[2174., 2409., 3185.],\n",
       "        [2185., 2441., 3198.],\n",
       "        [2146., 2399., 3194.],\n",
       "        ...,\n",
       "        [   0.,    0.,    0.],\n",
       "        [   0.,    0.,    0.],\n",
       "        [   0.,    0.,    0.]],\n",
       "\n",
       "       ...,\n",
       "\n",
       "       [[   0.,    0.,    0.],\n",
       "        [   0.,    0.,    0.],\n",
       "        [   0.,    0.,    0.],\n",
       "        ...,\n",
       "        [2372., 2510., 3227.],\n",
       "        [2313., 2478., 3193.],\n",
       "        [2217., 2424., 3225.]],\n",
       "\n",
       "       [[   0.,    0.,    0.],\n",
       "        [   0.,    0.,    0.],\n",
       "        [   0.,    0.,    0.],\n",
       "        ...,\n",
       "        [2129., 2389., 3205.],\n",
       "        [2271., 2502., 3272.],\n",
       "        [2220., 2511., 3267.]],\n",
       "\n",
       "       [[   0.,    0.,    0.],\n",
       "        [   0.,    0.,    0.],\n",
       "        [   0.,    0.,    0.],\n",
       "        ...,\n",
       "        [2092., 2409., 3176.],\n",
       "        [2335., 2514., 3253.],\n",
       "        [2376., 2542., 3245.]]], dtype=float32)"
      ]
     },
     "execution_count": 5,
     "metadata": {},
     "output_type": "execute_result"
    }
   ],
   "source": [
    "img"
   ]
  },
  {
   "cell_type": "code",
   "execution_count": 6,
   "id": "97e54655-c576-40d7-8581-35591785355b",
   "metadata": {},
   "outputs": [
    {
     "data": {
      "text/plain": [
       "(424, 438, 3)"
      ]
     },
     "execution_count": 6,
     "metadata": {},
     "output_type": "execute_result"
    }
   ],
   "source": [
    "img.shape"
   ]
  },
  {
   "cell_type": "code",
   "execution_count": 7,
   "id": "ffbb683f-fb8f-45b5-9928-c27571b29aa8",
   "metadata": {},
   "outputs": [],
   "source": [
    "img_2 = img_ds.ReadAsArray()"
   ]
  },
  {
   "cell_type": "code",
   "execution_count": 8,
   "id": "b28b179b-44e5-4850-897c-f360f70d90cc",
   "metadata": {},
   "outputs": [
    {
     "data": {
      "text/plain": [
       "array([[[2185., 2390., 2301., ...,    0.,    0.,    0.],\n",
       "        [2223., 2323., 2271., ...,    0.,    0.,    0.],\n",
       "        [2174., 2185., 2146., ...,    0.,    0.,    0.],\n",
       "        ...,\n",
       "        [   0.,    0.,    0., ..., 2372., 2313., 2217.],\n",
       "        [   0.,    0.,    0., ..., 2129., 2271., 2220.],\n",
       "        [   0.,    0.,    0., ..., 2092., 2335., 2376.]],\n",
       "\n",
       "       [[2432., 2587., 2431., ...,    0.,    0.,    0.],\n",
       "        [2486., 2512., 2403., ...,    0.,    0.,    0.],\n",
       "        [2409., 2441., 2399., ...,    0.,    0.,    0.],\n",
       "        ...,\n",
       "        [   0.,    0.,    0., ..., 2510., 2478., 2424.],\n",
       "        [   0.,    0.,    0., ..., 2389., 2502., 2511.],\n",
       "        [   0.,    0.,    0., ..., 2409., 2514., 2542.]],\n",
       "\n",
       "       [[3275., 3365., 3204., ...,    0.,    0.,    0.],\n",
       "        [3260., 3253., 3214., ...,    0.,    0.,    0.],\n",
       "        [3185., 3198., 3194., ...,    0.,    0.,    0.],\n",
       "        ...,\n",
       "        [   0.,    0.,    0., ..., 3227., 3193., 3225.],\n",
       "        [   0.,    0.,    0., ..., 3205., 3272., 3267.],\n",
       "        [   0.,    0.,    0., ..., 3176., 3253., 3245.]]], dtype=float32)"
      ]
     },
     "execution_count": 8,
     "metadata": {},
     "output_type": "execute_result"
    }
   ],
   "source": [
    "img_2"
   ]
  },
  {
   "cell_type": "code",
   "execution_count": 9,
   "id": "f9ea2c5d-b38f-46c5-bfca-da444ce0b010",
   "metadata": {},
   "outputs": [
    {
     "data": {
      "text/plain": [
       "(3, 424, 438)"
      ]
     },
     "execution_count": 9,
     "metadata": {},
     "output_type": "execute_result"
    }
   ],
   "source": [
    "img_2.shape"
   ]
  },
  {
   "cell_type": "code",
   "execution_count": 11,
   "id": "71a2d25d-0aa2-42f8-8a6d-e530c76bbbdb",
   "metadata": {},
   "outputs": [
    {
     "data": {
      "text/plain": [
       "array([[[2185., 2432., 3275.],\n",
       "        [2390., 2587., 3365.],\n",
       "        [2301., 2431., 3204.],\n",
       "        ...,\n",
       "        [   0.,    0.,    0.],\n",
       "        [   0.,    0.,    0.],\n",
       "        [   0.,    0.,    0.]],\n",
       "\n",
       "       [[2223., 2486., 3260.],\n",
       "        [2323., 2512., 3253.],\n",
       "        [2271., 2403., 3214.],\n",
       "        ...,\n",
       "        [   0.,    0.,    0.],\n",
       "        [   0.,    0.,    0.],\n",
       "        [   0.,    0.,    0.]],\n",
       "\n",
       "       [[2174., 2409., 3185.],\n",
       "        [2185., 2441., 3198.],\n",
       "        [2146., 2399., 3194.],\n",
       "        ...,\n",
       "        [   0.,    0.,    0.],\n",
       "        [   0.,    0.,    0.],\n",
       "        [   0.,    0.,    0.]],\n",
       "\n",
       "       ...,\n",
       "\n",
       "       [[   0.,    0.,    0.],\n",
       "        [   0.,    0.,    0.],\n",
       "        [   0.,    0.,    0.],\n",
       "        ...,\n",
       "        [2372., 2510., 3227.],\n",
       "        [2313., 2478., 3193.],\n",
       "        [2217., 2424., 3225.]],\n",
       "\n",
       "       [[   0.,    0.,    0.],\n",
       "        [   0.,    0.,    0.],\n",
       "        [   0.,    0.,    0.],\n",
       "        ...,\n",
       "        [2129., 2389., 3205.],\n",
       "        [2271., 2502., 3272.],\n",
       "        [2220., 2511., 3267.]],\n",
       "\n",
       "       [[   0.,    0.,    0.],\n",
       "        [   0.,    0.,    0.],\n",
       "        [   0.,    0.,    0.],\n",
       "        ...,\n",
       "        [2092., 2409., 3176.],\n",
       "        [2335., 2514., 3253.],\n",
       "        [2376., 2542., 3245.]]], dtype=float32)"
      ]
     },
     "execution_count": 11,
     "metadata": {},
     "output_type": "execute_result"
    }
   ],
   "source": [
    "np.moveaxis(img_2, 0, -1)"
   ]
  },
  {
   "cell_type": "code",
   "execution_count": 12,
   "id": "f6c6f9fc-017c-404b-8309-c0e6b518943b",
   "metadata": {},
   "outputs": [
    {
     "data": {
      "text/plain": [
       "438"
      ]
     },
     "execution_count": 12,
     "metadata": {},
     "output_type": "execute_result"
    }
   ],
   "source": [
    "img_ds.RasterXSize"
   ]
  },
  {
   "cell_type": "code",
   "execution_count": null,
   "id": "c35f548e-ca9c-4682-a85b-fe104f5c348c",
   "metadata": {},
   "outputs": [],
   "source": []
  }
 ],
 "metadata": {
  "kernelspec": {
   "display_name": "Python 3 (ipykernel)",
   "language": "python",
   "name": "python3"
  },
  "language_info": {
   "codemirror_mode": {
    "name": "ipython",
    "version": 3
   },
   "file_extension": ".py",
   "mimetype": "text/x-python",
   "name": "python",
   "nbconvert_exporter": "python",
   "pygments_lexer": "ipython3",
   "version": "3.11.7"
  }
 },
 "nbformat": 4,
 "nbformat_minor": 5
}
