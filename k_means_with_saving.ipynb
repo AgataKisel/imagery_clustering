{
 "cells": [
  {
   "cell_type": "code",
   "execution_count": 1,
   "id": "167bd3c9-61a5-4577-8bd9-60a0e12079cc",
   "metadata": {},
   "outputs": [],
   "source": [
    "from k_means_clustering import kmeans"
   ]
  },
  {
   "cell_type": "code",
   "execution_count": 2,
   "id": "685996a7-8083-467a-b5d1-6504adba3ee6",
   "metadata": {},
   "outputs": [
    {
     "name": "stdout",
     "output_type": "stream",
     "text": [
      "(185712, 3)\n"
     ]
    },
    {
     "ename": "KeyboardInterrupt",
     "evalue": "",
     "output_type": "error",
     "traceback": [
      "\u001b[1;31m---------------------------------------------------------------------------\u001b[0m",
      "\u001b[1;31mKeyboardInterrupt\u001b[0m                         Traceback (most recent call last)",
      "File \u001b[1;32m<timed exec>:1\u001b[0m\n",
      "File \u001b[1;32mD:\\work\\imagery_clustering\\k_means_clustering.py:48\u001b[0m, in \u001b[0;36mkmeans\u001b[1;34m(input_path, output_path, model_name, num_clusters)\u001b[0m\n\u001b[0;32m     45\u001b[0m X_cluster \u001b[38;5;241m=\u001b[39m model\u001b[38;5;241m.\u001b[39mfit_predict(X)\n\u001b[0;32m     46\u001b[0m X_cluster \u001b[38;5;241m=\u001b[39m X_cluster\u001b[38;5;241m.\u001b[39mreshape(img\u001b[38;5;241m.\u001b[39mshape[:\u001b[38;5;241m2\u001b[39m])\n\u001b[1;32m---> 48\u001b[0m \u001b[38;5;28mformat\u001b[39m \u001b[38;5;241m=\u001b[39m \u001b[38;5;124m\"\u001b[39m\u001b[38;5;124mGTiff\u001b[39m\u001b[38;5;124m\"\u001b[39m\n\u001b[0;32m     49\u001b[0m driver \u001b[38;5;241m=\u001b[39m gdal\u001b[38;5;241m.\u001b[39mGetDriverByName(\u001b[38;5;28mformat\u001b[39m)\n\u001b[0;32m     51\u001b[0m out_data_raster \u001b[38;5;241m=\u001b[39m driver\u001b[38;5;241m.\u001b[39mCreate(output_path, img_ds\u001b[38;5;241m.\u001b[39mRasterXSize, img_ds\u001b[38;5;241m.\u001b[39mRasterYSize, \u001b[38;5;241m1\u001b[39m, gdal\u001b[38;5;241m.\u001b[39mGDT_Byte)\n",
      "File \u001b[1;32m~\\anaconda3\\Lib\\site-packages\\sklearn\\base.py:753\u001b[0m, in \u001b[0;36mClusterMixin.fit_predict\u001b[1;34m(self, X, y)\u001b[0m\n\u001b[0;32m    735\u001b[0m \u001b[38;5;250m\u001b[39m\u001b[38;5;124;03m\"\"\"\u001b[39;00m\n\u001b[0;32m    736\u001b[0m \u001b[38;5;124;03mPerform clustering on `X` and returns cluster labels.\u001b[39;00m\n\u001b[0;32m    737\u001b[0m \n\u001b[1;32m   (...)\u001b[0m\n\u001b[0;32m    749\u001b[0m \u001b[38;5;124;03m    Cluster labels.\u001b[39;00m\n\u001b[0;32m    750\u001b[0m \u001b[38;5;124;03m\"\"\"\u001b[39;00m\n\u001b[0;32m    751\u001b[0m \u001b[38;5;66;03m# non-optimized default implementation; override when a better\u001b[39;00m\n\u001b[0;32m    752\u001b[0m \u001b[38;5;66;03m# method is possible for a given clustering algorithm\u001b[39;00m\n\u001b[1;32m--> 753\u001b[0m \u001b[38;5;28mself\u001b[39m\u001b[38;5;241m.\u001b[39mfit(X)\n\u001b[0;32m    754\u001b[0m \u001b[38;5;28;01mreturn\u001b[39;00m \u001b[38;5;28mself\u001b[39m\u001b[38;5;241m.\u001b[39mlabels_\n",
      "File \u001b[1;32m~\\anaconda3\\Lib\\site-packages\\sklearn\\cluster\\_optics.py:335\u001b[0m, in \u001b[0;36mOPTICS.fit\u001b[1;34m(self, X, y)\u001b[0m\n\u001b[0;32m    327\u001b[0m         X\u001b[38;5;241m.\u001b[39msetdiag(X\u001b[38;5;241m.\u001b[39mdiagonal())\n\u001b[0;32m    328\u001b[0m memory \u001b[38;5;241m=\u001b[39m check_memory(\u001b[38;5;28mself\u001b[39m\u001b[38;5;241m.\u001b[39mmemory)\n\u001b[0;32m    330\u001b[0m (\n\u001b[0;32m    331\u001b[0m     \u001b[38;5;28mself\u001b[39m\u001b[38;5;241m.\u001b[39mordering_,\n\u001b[0;32m    332\u001b[0m     \u001b[38;5;28mself\u001b[39m\u001b[38;5;241m.\u001b[39mcore_distances_,\n\u001b[0;32m    333\u001b[0m     \u001b[38;5;28mself\u001b[39m\u001b[38;5;241m.\u001b[39mreachability_,\n\u001b[0;32m    334\u001b[0m     \u001b[38;5;28mself\u001b[39m\u001b[38;5;241m.\u001b[39mpredecessor_,\n\u001b[1;32m--> 335\u001b[0m ) \u001b[38;5;241m=\u001b[39m memory\u001b[38;5;241m.\u001b[39mcache(compute_optics_graph)(\n\u001b[0;32m    336\u001b[0m     X\u001b[38;5;241m=\u001b[39mX,\n\u001b[0;32m    337\u001b[0m     min_samples\u001b[38;5;241m=\u001b[39m\u001b[38;5;28mself\u001b[39m\u001b[38;5;241m.\u001b[39mmin_samples,\n\u001b[0;32m    338\u001b[0m     algorithm\u001b[38;5;241m=\u001b[39m\u001b[38;5;28mself\u001b[39m\u001b[38;5;241m.\u001b[39malgorithm,\n\u001b[0;32m    339\u001b[0m     leaf_size\u001b[38;5;241m=\u001b[39m\u001b[38;5;28mself\u001b[39m\u001b[38;5;241m.\u001b[39mleaf_size,\n\u001b[0;32m    340\u001b[0m     metric\u001b[38;5;241m=\u001b[39m\u001b[38;5;28mself\u001b[39m\u001b[38;5;241m.\u001b[39mmetric,\n\u001b[0;32m    341\u001b[0m     metric_params\u001b[38;5;241m=\u001b[39m\u001b[38;5;28mself\u001b[39m\u001b[38;5;241m.\u001b[39mmetric_params,\n\u001b[0;32m    342\u001b[0m     p\u001b[38;5;241m=\u001b[39m\u001b[38;5;28mself\u001b[39m\u001b[38;5;241m.\u001b[39mp,\n\u001b[0;32m    343\u001b[0m     n_jobs\u001b[38;5;241m=\u001b[39m\u001b[38;5;28mself\u001b[39m\u001b[38;5;241m.\u001b[39mn_jobs,\n\u001b[0;32m    344\u001b[0m     max_eps\u001b[38;5;241m=\u001b[39m\u001b[38;5;28mself\u001b[39m\u001b[38;5;241m.\u001b[39mmax_eps,\n\u001b[0;32m    345\u001b[0m )\n\u001b[0;32m    347\u001b[0m \u001b[38;5;66;03m# Extract clusters from the calculated orders and reachability\u001b[39;00m\n\u001b[0;32m    348\u001b[0m \u001b[38;5;28;01mif\u001b[39;00m \u001b[38;5;28mself\u001b[39m\u001b[38;5;241m.\u001b[39mcluster_method \u001b[38;5;241m==\u001b[39m \u001b[38;5;124m\"\u001b[39m\u001b[38;5;124mxi\u001b[39m\u001b[38;5;124m\"\u001b[39m:\n",
      "File \u001b[1;32m~\\anaconda3\\Lib\\site-packages\\joblib\\memory.py:349\u001b[0m, in \u001b[0;36mNotMemorizedFunc.__call__\u001b[1;34m(self, *args, **kwargs)\u001b[0m\n\u001b[0;32m    348\u001b[0m \u001b[38;5;28;01mdef\u001b[39;00m \u001b[38;5;21m__call__\u001b[39m(\u001b[38;5;28mself\u001b[39m, \u001b[38;5;241m*\u001b[39margs, \u001b[38;5;241m*\u001b[39m\u001b[38;5;241m*\u001b[39mkwargs):\n\u001b[1;32m--> 349\u001b[0m     \u001b[38;5;28;01mreturn\u001b[39;00m \u001b[38;5;28mself\u001b[39m\u001b[38;5;241m.\u001b[39mfunc(\u001b[38;5;241m*\u001b[39margs, \u001b[38;5;241m*\u001b[39m\u001b[38;5;241m*\u001b[39mkwargs)\n",
      "File \u001b[1;32m~\\anaconda3\\Lib\\site-packages\\sklearn\\cluster\\_optics.py:584\u001b[0m, in \u001b[0;36mcompute_optics_graph\u001b[1;34m(X, min_samples, max_eps, metric, p, metric_params, algorithm, leaf_size, n_jobs)\u001b[0m\n\u001b[0;32m    582\u001b[0m     ordering[ordering_idx] \u001b[38;5;241m=\u001b[39m point\n\u001b[0;32m    583\u001b[0m     \u001b[38;5;28;01mif\u001b[39;00m core_distances_[point] \u001b[38;5;241m!=\u001b[39m np\u001b[38;5;241m.\u001b[39minf:\n\u001b[1;32m--> 584\u001b[0m         _set_reach_dist(\n\u001b[0;32m    585\u001b[0m             core_distances_\u001b[38;5;241m=\u001b[39mcore_distances_,\n\u001b[0;32m    586\u001b[0m             reachability_\u001b[38;5;241m=\u001b[39mreachability_,\n\u001b[0;32m    587\u001b[0m             predecessor_\u001b[38;5;241m=\u001b[39mpredecessor_,\n\u001b[0;32m    588\u001b[0m             point_index\u001b[38;5;241m=\u001b[39mpoint,\n\u001b[0;32m    589\u001b[0m             processed\u001b[38;5;241m=\u001b[39mprocessed,\n\u001b[0;32m    590\u001b[0m             X\u001b[38;5;241m=\u001b[39mX,\n\u001b[0;32m    591\u001b[0m             nbrs\u001b[38;5;241m=\u001b[39mnbrs,\n\u001b[0;32m    592\u001b[0m             metric\u001b[38;5;241m=\u001b[39mmetric,\n\u001b[0;32m    593\u001b[0m             metric_params\u001b[38;5;241m=\u001b[39mmetric_params,\n\u001b[0;32m    594\u001b[0m             p\u001b[38;5;241m=\u001b[39mp,\n\u001b[0;32m    595\u001b[0m             max_eps\u001b[38;5;241m=\u001b[39mmax_eps,\n\u001b[0;32m    596\u001b[0m         )\n\u001b[0;32m    597\u001b[0m \u001b[38;5;28;01mif\u001b[39;00m np\u001b[38;5;241m.\u001b[39mall(np\u001b[38;5;241m.\u001b[39misinf(reachability_)):\n\u001b[0;32m    598\u001b[0m     warnings\u001b[38;5;241m.\u001b[39mwarn(\n\u001b[0;32m    599\u001b[0m         \u001b[38;5;124m\"\u001b[39m\u001b[38;5;124mAll reachability values are inf. Set a larger\u001b[39m\u001b[38;5;124m\"\u001b[39m\n\u001b[0;32m    600\u001b[0m         \u001b[38;5;124m\"\u001b[39m\u001b[38;5;124m max_eps or all data will be considered outliers.\u001b[39m\u001b[38;5;124m\"\u001b[39m,\n\u001b[0;32m    601\u001b[0m         \u001b[38;5;167;01mUserWarning\u001b[39;00m,\n\u001b[0;32m    602\u001b[0m     )\n",
      "File \u001b[1;32m~\\anaconda3\\Lib\\site-packages\\sklearn\\cluster\\_optics.py:643\u001b[0m, in \u001b[0;36m_set_reach_dist\u001b[1;34m(core_distances_, reachability_, predecessor_, point_index, processed, X, nbrs, metric, metric_params, p, max_eps)\u001b[0m\n\u001b[0;32m    639\u001b[0m     \u001b[38;5;28;01mif\u001b[39;00m metric \u001b[38;5;241m==\u001b[39m \u001b[38;5;124m\"\u001b[39m\u001b[38;5;124mminkowski\u001b[39m\u001b[38;5;124m\"\u001b[39m \u001b[38;5;129;01mand\u001b[39;00m \u001b[38;5;124m\"\u001b[39m\u001b[38;5;124mp\u001b[39m\u001b[38;5;124m\"\u001b[39m \u001b[38;5;129;01mnot\u001b[39;00m \u001b[38;5;129;01min\u001b[39;00m _params:\n\u001b[0;32m    640\u001b[0m         \u001b[38;5;66;03m# the same logic as neighbors, p is ignored if explicitly set\u001b[39;00m\n\u001b[0;32m    641\u001b[0m         \u001b[38;5;66;03m# in the dict params\u001b[39;00m\n\u001b[0;32m    642\u001b[0m         _params[\u001b[38;5;124m\"\u001b[39m\u001b[38;5;124mp\u001b[39m\u001b[38;5;124m\"\u001b[39m] \u001b[38;5;241m=\u001b[39m p\n\u001b[1;32m--> 643\u001b[0m     dists \u001b[38;5;241m=\u001b[39m pairwise_distances(P, X[unproc], metric, n_jobs\u001b[38;5;241m=\u001b[39m\u001b[38;5;28;01mNone\u001b[39;00m, \u001b[38;5;241m*\u001b[39m\u001b[38;5;241m*\u001b[39m_params)\u001b[38;5;241m.\u001b[39mravel()\n\u001b[0;32m    645\u001b[0m rdists \u001b[38;5;241m=\u001b[39m np\u001b[38;5;241m.\u001b[39mmaximum(dists, core_distances_[point_index])\n\u001b[0;32m    646\u001b[0m np\u001b[38;5;241m.\u001b[39maround(rdists, decimals\u001b[38;5;241m=\u001b[39mnp\u001b[38;5;241m.\u001b[39mfinfo(rdists\u001b[38;5;241m.\u001b[39mdtype)\u001b[38;5;241m.\u001b[39mprecision, out\u001b[38;5;241m=\u001b[39mrdists)\n",
      "File \u001b[1;32m~\\anaconda3\\Lib\\site-packages\\sklearn\\metrics\\pairwise.py:1881\u001b[0m, in \u001b[0;36mpairwise_distances\u001b[1;34m(X, Y, metric, n_jobs, force_all_finite, **kwds)\u001b[0m\n\u001b[0;32m   1877\u001b[0m             _check_chunk_size(D_chunk, chunk_size)\n\u001b[0;32m   1878\u001b[0m         \u001b[38;5;28;01myield\u001b[39;00m D_chunk\n\u001b[1;32m-> 1881\u001b[0m \u001b[38;5;28;01mdef\u001b[39;00m \u001b[38;5;21mpairwise_distances\u001b[39m(\n\u001b[0;32m   1882\u001b[0m     X, Y\u001b[38;5;241m=\u001b[39m\u001b[38;5;28;01mNone\u001b[39;00m, metric\u001b[38;5;241m=\u001b[39m\u001b[38;5;124m\"\u001b[39m\u001b[38;5;124meuclidean\u001b[39m\u001b[38;5;124m\"\u001b[39m, \u001b[38;5;241m*\u001b[39m, n_jobs\u001b[38;5;241m=\u001b[39m\u001b[38;5;28;01mNone\u001b[39;00m, force_all_finite\u001b[38;5;241m=\u001b[39m\u001b[38;5;28;01mTrue\u001b[39;00m, \u001b[38;5;241m*\u001b[39m\u001b[38;5;241m*\u001b[39mkwds\n\u001b[0;32m   1883\u001b[0m ):\n\u001b[0;32m   1884\u001b[0m \u001b[38;5;250m    \u001b[39m\u001b[38;5;124;03m\"\"\"Compute the distance matrix from a vector array X and optional Y.\u001b[39;00m\n\u001b[0;32m   1885\u001b[0m \n\u001b[0;32m   1886\u001b[0m \u001b[38;5;124;03m    This method takes either a vector array or a distance matrix, and returns\u001b[39;00m\n\u001b[1;32m   (...)\u001b[0m\n\u001b[0;32m   1988\u001b[0m \u001b[38;5;124;03m        of two arrays.\u001b[39;00m\n\u001b[0;32m   1989\u001b[0m \u001b[38;5;124;03m    \"\"\"\u001b[39;00m\n\u001b[0;32m   1990\u001b[0m     \u001b[38;5;28;01mif\u001b[39;00m (\n\u001b[0;32m   1991\u001b[0m         metric \u001b[38;5;129;01mnot\u001b[39;00m \u001b[38;5;129;01min\u001b[39;00m _VALID_METRICS\n\u001b[0;32m   1992\u001b[0m         \u001b[38;5;129;01mand\u001b[39;00m \u001b[38;5;129;01mnot\u001b[39;00m \u001b[38;5;28mcallable\u001b[39m(metric)\n\u001b[0;32m   1993\u001b[0m         \u001b[38;5;129;01mand\u001b[39;00m metric \u001b[38;5;241m!=\u001b[39m \u001b[38;5;124m\"\u001b[39m\u001b[38;5;124mprecomputed\u001b[39m\u001b[38;5;124m\"\u001b[39m\n\u001b[0;32m   1994\u001b[0m     ):\n",
      "\u001b[1;31mKeyboardInterrupt\u001b[0m: "
     ]
    }
   ],
   "source": [
    "%%time\n",
    "output_img = kmeans('D:/work/kmeans/images/2024_01_30_cutted.tif', \"D:/work/kmeans/result_images/2024_01_30_OPTICS_cutted.geotif\", \"OPTICS\")"
   ]
  },
  {
   "cell_type": "code",
   "execution_count": null,
   "id": "cdefb27b-a442-417a-95f3-26e3b53bc8e7",
   "metadata": {},
   "outputs": [],
   "source": []
  },
  {
   "cell_type": "code",
   "execution_count": null,
   "id": "ee6a88f8-f8dd-4213-9eea-03d179c5a1c7",
   "metadata": {},
   "outputs": [],
   "source": []
  },
  {
   "cell_type": "code",
   "execution_count": null,
   "id": "40e6ecd7-6d24-483f-8f1a-654b9c9433d9",
   "metadata": {},
   "outputs": [],
   "source": []
  }
 ],
 "metadata": {
  "kernelspec": {
   "display_name": "Python 3 (ipykernel)",
   "language": "python",
   "name": "python3"
  },
  "language_info": {
   "codemirror_mode": {
    "name": "ipython",
    "version": 3
   },
   "file_extension": ".py",
   "mimetype": "text/x-python",
   "name": "python",
   "nbconvert_exporter": "python",
   "pygments_lexer": "ipython3",
   "version": "3.11.7"
  }
 },
 "nbformat": 4,
 "nbformat_minor": 5
}
