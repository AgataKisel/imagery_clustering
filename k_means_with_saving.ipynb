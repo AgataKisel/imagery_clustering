{
 "cells": [
  {
   "cell_type": "code",
   "execution_count": null,
   "id": "167bd3c9-61a5-4577-8bd9-60a0e12079cc",
   "metadata": {},
   "outputs": [],
   "source": [
    "import numpy as np\n",
    "from sklearn import cluster\n",
    "from osgeo import gdal, gdal_array\n",
    "import matplotlib.pyplot as plt\n",
    "from PIL import Image\n",
    "import tarfile\n",
    "import os"
   ]
  },
  {
   "cell_type": "code",
   "execution_count": null,
   "id": "685996a7-8083-467a-b5d1-6504adba3ee6",
   "metadata": {},
   "outputs": [],
   "source": [
    "def kmeans(input_path: str, num_clusters: int, output_path: str):\n",
    "    gdal.UseExceptions()\n",
    "    gdal.AllRegister()\n",
    "    img_ds = gdal.Open(input_path, gdal.GA_ReadOnly)\n",
    "    num_rasters = img_ds.RasterCount\n",
    "    \n",
    "    img = np.zeros((img_ds.RasterYSize, img_ds.RasterXSize, num_rasters),\n",
    "                   gdal_array.GDALTypeCodeToNumericTypeCode(img_ds.GetRasterBand(1).DataType))\n",
    "\n",
    "    for b in range(num_rasters):\n",
    "        img[:, :, b] = img_ds.GetRasterBand(b + 1).ReadAsArray()\n",
    "    \n",
    "    X = img.reshape((-1, num_rasters))\n",
    "    \n",
    "    k_means = cluster.KMeans(n_clusters=num_clusters)\n",
    "    k_means.fit(X)\n",
    "    \n",
    "    X_cluster = k_means.labels_\n",
    "    X_cluster = X_cluster.reshape(img.shape[:2])\n",
    "\n",
    "    [cols, rows] = img_ds.GetRasterBand(1).ReadAsArray().shape\n",
    "    \n",
    "    format = \"GTiff\"\n",
    "    driver = gdal.GetDriverByName(format)\n",
    "    \n",
    "    out_data_raster = driver.Create(output_path, rows, cols, 1, gdal.GDT_Byte)\n",
    "    out_data_raster.SetGeoTransform(img_ds.GetGeoTransform())\n",
    "    out_data_raster.SetProjection(img_ds.GetProjection())\n",
    "    \n",
    "    out_data_raster.GetRasterBand(1).WriteArray(X_cluster)\n",
    "    out_data_raster.FlushCache() \n",
    "    del out_data_raster\n",
    "\n",
    "    return X_cluster"
   ]
  },
  {
   "cell_type": "code",
   "execution_count": null,
   "id": "4662c7b5-ff99-4b50-92de-d886066955be",
   "metadata": {},
   "outputs": [],
   "source": [
    "output_img = kmeans('D:/work/kmeans/images/2024_01_30_cutted.tif', 4, \"D:/work/kmeans/result_images/image.geotif\")"
   ]
  }
 ],
 "metadata": {
  "kernelspec": {
   "display_name": "Python 3 (ipykernel)",
   "language": "python",
   "name": "python3"
  },
  "language_info": {
   "codemirror_mode": {
    "name": "ipython",
    "version": 3
   },
   "file_extension": ".py",
   "mimetype": "text/x-python",
   "name": "python",
   "nbconvert_exporter": "python",
   "pygments_lexer": "ipython3",
   "version": "3.11.7"
  }
 },
 "nbformat": 4,
 "nbformat_minor": 5
}
