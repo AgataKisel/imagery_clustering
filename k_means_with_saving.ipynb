{
 "cells": [
  {
   "cell_type": "code",
   "execution_count": 2,
   "id": "167bd3c9-61a5-4577-8bd9-60a0e12079cc",
   "metadata": {},
   "outputs": [],
   "source": [
    "from k_means_clustering import kmeans"
   ]
  },
  {
   "cell_type": "code",
   "execution_count": null,
   "id": "685996a7-8083-467a-b5d1-6504adba3ee6",
   "metadata": {},
   "outputs": [],
   "source": []
  },
  {
   "cell_type": "code",
   "execution_count": 5,
   "id": "4662c7b5-ff99-4b50-92de-d886066955be",
   "metadata": {},
   "outputs": [
    {
     "name": "stderr",
     "output_type": "stream",
     "text": [
      "C:\\Users\\AK\\anaconda3\\Lib\\site-packages\\sklearn\\cluster\\_kmeans.py:870: FutureWarning: The default value of `n_init` will change from 10 to 'auto' in 1.4. Set the value of `n_init` explicitly to suppress the warning\n",
      "  warnings.warn(\n"
     ]
    }
   ],
   "source": [
    "output_img = kmeans('D:/work/kmeans/images/2024_01_30_cutted.tif', 4, \"D:/work/kmeans/result_images/image3.geotif\")"
   ]
  },
  {
   "cell_type": "code",
   "execution_count": null,
   "id": "ee6a88f8-f8dd-4213-9eea-03d179c5a1c7",
   "metadata": {},
   "outputs": [],
   "source": []
  }
 ],
 "metadata": {
  "kernelspec": {
   "display_name": "Python 3 (ipykernel)",
   "language": "python",
   "name": "python3"
  },
  "language_info": {
   "codemirror_mode": {
    "name": "ipython",
    "version": 3
   },
   "file_extension": ".py",
   "mimetype": "text/x-python",
   "name": "python",
   "nbconvert_exporter": "python",
   "pygments_lexer": "ipython3",
   "version": "3.11.7"
  }
 },
 "nbformat": 4,
 "nbformat_minor": 5
}
