{
 "cells": [
  {
   "cell_type": "code",
   "execution_count": 1,
   "id": "9263f205-ba35-48c4-8e96-f4dbf9ac4941",
   "metadata": {},
   "outputs": [],
   "source": [
    "import numpy as np\n",
    "from sklearn import cluster\n",
    "from osgeo import gdal, gdal_array\n",
    "import matplotlib.pyplot as plt\n",
    "from PIL import Image\n",
    "import tarfile"
   ]
  },
  {
   "cell_type": "code",
   "execution_count": 8,
   "id": "4a007078-a567-4e88-9480-1860aa1aad4e",
   "metadata": {},
   "outputs": [],
   "source": [
    "def kmeans(input_path: str, num_clusters: int, output_path: str):\n",
    "    gdal.UseExceptions()\n",
    "    gdal.AllRegister()\n",
    "    img_ds = gdal.Open(input_path, gdal.GA_ReadOnly)\n",
    "    band = img_ds.GetRasterBand(1)\n",
    "\n",
    "    img = band.ReadAsArray()\n",
    "    \n",
    "    X = img.reshape((-1,1))\n",
    "    \n",
    "    k_means = cluster.KMeans(n_clusters=num_clusters)\n",
    "    k_means.fit(X)\n",
    "    \n",
    "    X_cluster = k_means.labels_\n",
    "    X_cluster = X_cluster.reshape(img.shape)\n",
    "    Image.fromarray(X_cluster).save(output_path+\"kmeans.tif\")\n",
    "    return X_cluster"
   ]
  },
  {
   "cell_type": "code",
   "execution_count": 10,
   "id": "59a1aea1-c7a3-4103-88a5-6bb8ff7c144e",
   "metadata": {},
   "outputs": [
    {
     "name": "stderr",
     "output_type": "stream",
     "text": [
      "C:\\Users\\AK\\anaconda3\\Lib\\site-packages\\sklearn\\cluster\\_kmeans.py:870: FutureWarning: The default value of `n_init` will change from 10 to 'auto' in 1.4. Set the value of `n_init` explicitly to suppress the warning\n",
      "  warnings.warn(\n"
     ]
    }
   ],
   "source": [
    "output_img = kmeans('D:/work/kmeans/images/2024_01_30.tif', 4, \"D:/work/kmeans/result_images/\")"
   ]
  },
  {
   "cell_type": "code",
   "execution_count": null,
   "id": "89f41751-103f-4ac3-96e2-754989462d7e",
   "metadata": {},
   "outputs": [],
   "source": []
  },
  {
   "cell_type": "code",
   "execution_count": null,
   "id": "24dcda79-e31d-4ad0-a044-2bb2917a7063",
   "metadata": {},
   "outputs": [],
   "source": []
  }
 ],
 "metadata": {
  "kernelspec": {
   "display_name": "Python 3 (ipykernel)",
   "language": "python",
   "name": "python3"
  },
  "language_info": {
   "codemirror_mode": {
    "name": "ipython",
    "version": 3
   },
   "file_extension": ".py",
   "mimetype": "text/x-python",
   "name": "python",
   "nbconvert_exporter": "python",
   "pygments_lexer": "ipython3",
   "version": "3.11.7"
  }
 },
 "nbformat": 4,
 "nbformat_minor": 5
}
